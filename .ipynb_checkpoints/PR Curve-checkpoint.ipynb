{
 "cells": [
  {
   "cell_type": "code",
   "execution_count": 1,
   "metadata": {},
   "outputs": [
    {
     "name": "stderr",
     "output_type": "stream",
     "text": [
      "/Users/yehyaa/.pyenv/versions/3.6.3/Python.framework/Versions/3.6/lib/python3.6/importlib/_bootstrap.py:219: RuntimeWarning: numpy.dtype size changed, may indicate binary incompatibility. Expected 96, got 88\n",
      "  return f(*args, **kwds)\n"
     ]
    }
   ],
   "source": [
    "import pandas as pd\n",
    "import matplotlib.pyplot as plt"
   ]
  },
  {
   "cell_type": "code",
   "execution_count": 135,
   "metadata": {},
   "outputs": [],
   "source": [
    "import seaborn"
   ]
  },
  {
   "cell_type": "code",
   "execution_count": 3,
   "metadata": {},
   "outputs": [],
   "source": [
    "from glob import glob"
   ]
  },
  {
   "cell_type": "code",
   "execution_count": 2,
   "metadata": {},
   "outputs": [],
   "source": [
    "%matplotlib inline"
   ]
  },
  {
   "cell_type": "code",
   "execution_count": 45,
   "metadata": {},
   "outputs": [],
   "source": [
    "def bb_intersection_over_union(boxA, boxB):\n",
    "    # determine the (x, y)-coordinates of the intersection rectangle\n",
    "    xA = max(boxA[0], boxB[0])\n",
    "    yA = max(boxA[1], boxB[1])\n",
    "    xB = min(boxA[2], boxB[2])\n",
    "    yB = min(boxA[3], boxB[3])\n",
    "\n",
    "    # compute the area of intersection rectangle\n",
    "    interArea = (xB - xA) * (yB - yA)\n",
    "\n",
    "    # compute the area of both the prediction and ground-truth\n",
    "    # rectangles\n",
    "    boxAArea = (boxA[2] - boxA[0]) * (boxA[3] - boxA[1])\n",
    "    boxBArea = (boxB[2] - boxB[0]) * (boxB[3] - boxB[1])\n",
    "\n",
    "    # compute the intersection over union by taking the intersection\n",
    "    # area and dividing it by the sum of prediction + ground-truth\n",
    "    # areas - the interesection area\n",
    "    iou = interArea / float(boxAArea + boxBArea - interArea)\n",
    "\n",
    "    # return the intersection over union value\n",
    "    return iou"
   ]
  },
  {
   "cell_type": "code",
   "execution_count": 154,
   "metadata": {},
   "outputs": [],
   "source": [
    "gt = glob('/Users/yehyaa/Downloads/data/task3/gt/*')"
   ]
  },
  {
   "cell_type": "code",
   "execution_count": 168,
   "metadata": {
    "scrolled": false
   },
   "outputs": [
    {
     "name": "stdout",
     "output_type": "stream",
     "text": [
      "Processing thr=25\n",
      "Processing thr=30\n",
      "Processing thr=35\n",
      "Processing thr=40\n",
      "Processing thr=45\n",
      "Processing thr=50\n",
      "Processing thr=55\n",
      "Processing thr=60\n",
      "Processing thr=65\n",
      "Processing thr=70\n",
      "Processing thr=75\n",
      "Processing thr=80\n",
      "Processing thr=85\n",
      "Processing thr=90\n",
      "Processing thr=95\n"
     ]
    }
   ],
   "source": [
    "curve = []\n",
    "# gt_file, test_file = next(zip(gt, test_files))\n",
    "for thr in range(25, 100, 5):\n",
    "    TP, FP, FN = 0, 0, 0\n",
    "\n",
    "    print('Processing thr={}'.format(thr))\n",
    "    test_files = glob('output/task3/0.{}0000_*_predictions.txt'.format(thr))\n",
    "    for gt_file, test_file in zip(gt, test_files):\n",
    "#         print(\"Processing {} ...\".format(test_file))\n",
    "\n",
    "        df_gt = pd.read_csv(gt_file, delimiter=' ', names=['label', 'x1', 'y1', 'x2', 'y2'])\n",
    "        df_test = pd.read_csv(test_file, delimiter=' ', names=['label', 'x', 'y', 'width', 'height'])\n",
    "\n",
    "        for i, box_test in df_test.iterrows():\n",
    "            highest_iou = 0.0\n",
    "            highest_index = -1\n",
    "\n",
    "            for j, box_gt in df_gt.iterrows():\n",
    "                if box_gt.label != box_test.label:\n",
    "                    # Loop over boxes of the same label only\n",
    "                    continue\n",
    "\n",
    "                bbox_gt = [box_gt.x1, box_gt.y1, box_gt.x2, box_gt.y2]\n",
    "                bbox_test = [box_test.x, box_test.y, box_test.x+box_test.width, box_test.y+box_test.height]\n",
    "\n",
    "                iou = bb_intersection_over_union(bbox_gt, bbox_test)\n",
    "\n",
    "    #             print(\"Matching ({}, {}, {}, {}) with ({}, {}, {}, {}) -- IoU= {}\".format(\n",
    "    #                 bbox_test[0], bbox_test[1], bbox_test[2], bbox_test[3],\n",
    "    #                 bbox_gt[0], bbox_gt[1], bbox_gt[2], bbox_gt[3], iou\n",
    "    #             ))\n",
    "\n",
    "                if iou > highest_iou:\n",
    "                    highest_iou = iou\n",
    "                    highest_index = j\n",
    "\n",
    "            if highest_iou > 0.5:\n",
    "                # True Positive\n",
    "                TP += 1\n",
    "                df_gt.drop(highest_index, inplace=True)\n",
    "            else:\n",
    "                # False Positives\n",
    "                FP += 1\n",
    "\n",
    "        FN += df_gt.label.count()\n",
    "        \n",
    "    precision = TP / (TP + FP)\n",
    "    recall = TP / (TP + FN)\n",
    "    curve += [( thr, precision, recall, TP, FP, FN )]"
   ]
  },
  {
   "cell_type": "code",
   "execution_count": 169,
   "metadata": {},
   "outputs": [],
   "source": [
    "dfCurve = pd.DataFrame(curve, columns=[ 'Thr', 'Precision', 'Recall', 'TP', 'FP', 'FN' ])"
   ]
  },
  {
   "cell_type": "code",
   "execution_count": 170,
   "metadata": {},
   "outputs": [
    {
     "data": {
      "text/html": [
       "<div>\n",
       "<style scoped>\n",
       "    .dataframe tbody tr th:only-of-type {\n",
       "        vertical-align: middle;\n",
       "    }\n",
       "\n",
       "    .dataframe tbody tr th {\n",
       "        vertical-align: top;\n",
       "    }\n",
       "\n",
       "    .dataframe thead th {\n",
       "        text-align: right;\n",
       "    }\n",
       "</style>\n",
       "<table border=\"1\" class=\"dataframe\">\n",
       "  <thead>\n",
       "    <tr style=\"text-align: right;\">\n",
       "      <th></th>\n",
       "      <th>Thr</th>\n",
       "      <th>Precision</th>\n",
       "      <th>Recall</th>\n",
       "      <th>TP</th>\n",
       "      <th>FP</th>\n",
       "      <th>FN</th>\n",
       "    </tr>\n",
       "  </thead>\n",
       "  <tbody>\n",
       "    <tr>\n",
       "      <th>0</th>\n",
       "      <td>25</td>\n",
       "      <td>0.233522</td>\n",
       "      <td>0.939394</td>\n",
       "      <td>124</td>\n",
       "      <td>407</td>\n",
       "      <td>8</td>\n",
       "    </tr>\n",
       "    <tr>\n",
       "      <th>1</th>\n",
       "      <td>30</td>\n",
       "      <td>0.238004</td>\n",
       "      <td>0.939394</td>\n",
       "      <td>124</td>\n",
       "      <td>397</td>\n",
       "      <td>8</td>\n",
       "    </tr>\n",
       "    <tr>\n",
       "      <th>2</th>\n",
       "      <td>35</td>\n",
       "      <td>0.255144</td>\n",
       "      <td>0.939394</td>\n",
       "      <td>124</td>\n",
       "      <td>362</td>\n",
       "      <td>8</td>\n",
       "    </tr>\n",
       "    <tr>\n",
       "      <th>3</th>\n",
       "      <td>40</td>\n",
       "      <td>0.279910</td>\n",
       "      <td>0.939394</td>\n",
       "      <td>124</td>\n",
       "      <td>319</td>\n",
       "      <td>8</td>\n",
       "    </tr>\n",
       "    <tr>\n",
       "      <th>4</th>\n",
       "      <td>45</td>\n",
       "      <td>0.320312</td>\n",
       "      <td>0.931818</td>\n",
       "      <td>123</td>\n",
       "      <td>261</td>\n",
       "      <td>9</td>\n",
       "    </tr>\n",
       "    <tr>\n",
       "      <th>5</th>\n",
       "      <td>50</td>\n",
       "      <td>0.382445</td>\n",
       "      <td>0.924242</td>\n",
       "      <td>122</td>\n",
       "      <td>197</td>\n",
       "      <td>10</td>\n",
       "    </tr>\n",
       "    <tr>\n",
       "      <th>6</th>\n",
       "      <td>55</td>\n",
       "      <td>0.460377</td>\n",
       "      <td>0.924242</td>\n",
       "      <td>122</td>\n",
       "      <td>143</td>\n",
       "      <td>10</td>\n",
       "    </tr>\n",
       "    <tr>\n",
       "      <th>7</th>\n",
       "      <td>60</td>\n",
       "      <td>0.540541</td>\n",
       "      <td>0.909091</td>\n",
       "      <td>120</td>\n",
       "      <td>102</td>\n",
       "      <td>12</td>\n",
       "    </tr>\n",
       "    <tr>\n",
       "      <th>8</th>\n",
       "      <td>65</td>\n",
       "      <td>0.625698</td>\n",
       "      <td>0.848485</td>\n",
       "      <td>112</td>\n",
       "      <td>67</td>\n",
       "      <td>20</td>\n",
       "    </tr>\n",
       "    <tr>\n",
       "      <th>9</th>\n",
       "      <td>70</td>\n",
       "      <td>0.765517</td>\n",
       "      <td>0.840909</td>\n",
       "      <td>111</td>\n",
       "      <td>34</td>\n",
       "      <td>21</td>\n",
       "    </tr>\n",
       "    <tr>\n",
       "      <th>10</th>\n",
       "      <td>75</td>\n",
       "      <td>0.869565</td>\n",
       "      <td>0.757576</td>\n",
       "      <td>100</td>\n",
       "      <td>15</td>\n",
       "      <td>32</td>\n",
       "    </tr>\n",
       "    <tr>\n",
       "      <th>11</th>\n",
       "      <td>80</td>\n",
       "      <td>0.924051</td>\n",
       "      <td>0.553030</td>\n",
       "      <td>73</td>\n",
       "      <td>6</td>\n",
       "      <td>59</td>\n",
       "    </tr>\n",
       "    <tr>\n",
       "      <th>12</th>\n",
       "      <td>85</td>\n",
       "      <td>0.961538</td>\n",
       "      <td>0.378788</td>\n",
       "      <td>50</td>\n",
       "      <td>2</td>\n",
       "      <td>82</td>\n",
       "    </tr>\n",
       "    <tr>\n",
       "      <th>13</th>\n",
       "      <td>90</td>\n",
       "      <td>1.000000</td>\n",
       "      <td>0.280303</td>\n",
       "      <td>37</td>\n",
       "      <td>0</td>\n",
       "      <td>95</td>\n",
       "    </tr>\n",
       "    <tr>\n",
       "      <th>14</th>\n",
       "      <td>95</td>\n",
       "      <td>1.000000</td>\n",
       "      <td>0.098485</td>\n",
       "      <td>13</td>\n",
       "      <td>0</td>\n",
       "      <td>119</td>\n",
       "    </tr>\n",
       "  </tbody>\n",
       "</table>\n",
       "</div>"
      ],
      "text/plain": [
       "    Thr  Precision    Recall   TP   FP   FN\n",
       "0    25   0.233522  0.939394  124  407    8\n",
       "1    30   0.238004  0.939394  124  397    8\n",
       "2    35   0.255144  0.939394  124  362    8\n",
       "3    40   0.279910  0.939394  124  319    8\n",
       "4    45   0.320312  0.931818  123  261    9\n",
       "5    50   0.382445  0.924242  122  197   10\n",
       "6    55   0.460377  0.924242  122  143   10\n",
       "7    60   0.540541  0.909091  120  102   12\n",
       "8    65   0.625698  0.848485  112   67   20\n",
       "9    70   0.765517  0.840909  111   34   21\n",
       "10   75   0.869565  0.757576  100   15   32\n",
       "11   80   0.924051  0.553030   73    6   59\n",
       "12   85   0.961538  0.378788   50    2   82\n",
       "13   90   1.000000  0.280303   37    0   95\n",
       "14   95   1.000000  0.098485   13    0  119"
      ]
     },
     "execution_count": 170,
     "metadata": {},
     "output_type": "execute_result"
    }
   ],
   "source": [
    "dfCurve"
   ]
  },
  {
   "cell_type": "code",
   "execution_count": 171,
   "metadata": {},
   "outputs": [
    {
     "data": {
      "text/plain": [
       "Text(0.5,1,'PR Curve')"
      ]
     },
     "execution_count": 171,
     "metadata": {},
     "output_type": "execute_result"
    },
    {
     "data": {
      "image/png": "[encoded data removed]",
      "text/plain": [
       "<matplotlib.figure.Figure at 0x1185354e0>"
      ]
     },
     "metadata": {},
     "output_type": "display_data"
    }
   ],
   "source": [
    "ax = dfCurve.plot(x='Recall', y='Precision', xlim=(0,1))\n",
    "ax.set_ylabel('Precision')\n",
    "ax.set_title('PR Curve')"
   ]
  },
  {
   "cell_type": "code",
   "execution_count": 172,
   "metadata": {},
   "outputs": [],
   "source": [
    "dfCurve.to_csv(\"curve_64_trees.csv\")"
   ]
  },
  {
   "cell_type": "code",
   "execution_count": 173,
   "metadata": {},
   "outputs": [],
   "source": [
    "dfCurve_200 = pd.read_csv('curve_200_trees.csv')\n",
    "dfCurve_20 = pd.read_csv('curve_20_trees.csv')\n",
    "dfCurve_64 = pd.read_csv('curve_20_trees.csv')"
   ]
  },
  {
   "cell_type": "code",
   "execution_count": 174,
   "metadata": {},
   "outputs": [
    {
     "data": {
      "text/plain": [
       "Text(0.5,1,'PR Curve')"
      ]
     },
     "execution_count": 174,
     "metadata": {},
     "output_type": "execute_result"
    },
    {
     "data": {
      "image/png": "[encoded data removed]",
      "text/plain": [
       "<matplotlib.figure.Figure at 0x118c8d710>"
      ]
     },
     "metadata": {},
     "output_type": "display_data"
    }
   ],
   "source": [
    "ax = plt.gca()\n",
    "\n",
    "dfCurve_200.plot(x='Recall', y='Precision', ax=ax)\n",
    "dfCurve_20.plot(x='Recall', y='Precision', ax=ax)\n",
    "dfCurve_64.plot(x='Recall', y='Precision', ax=ax)\n",
    "\n",
    "ax.legend([\n",
    "    'RF trees=200',\n",
    "    'RF trees=20',\n",
    "#     'RF trees=64',\n",
    "])\n",
    "\n",
    "ax.set_xlim(0,1)\n",
    "ax.set_ylabel('Precision')\n",
    "ax.set_title('PR Curve')"
   ]
  },
  {
   "cell_type": "code",
   "execution_count": null,
   "metadata": {},
   "outputs": [],
   "source": []
  }
 ],
 "metadata": {
  "kernelspec": {
   "display_name": "Python 3",
   "language": "python",
   "name": "python3"
  },
  "language_info": {
   "codemirror_mode": {
    "name": "ipython",
    "version": 3
   },
   "file_extension": ".py",
   "mimetype": "text/x-python",
   "name": "python",
   "nbconvert_exporter": "python",
   "pygments_lexer": "ipython3",
   "version": "3.6.3"
  }
 },
 "nbformat": 4,
 "nbformat_minor": 2
}
