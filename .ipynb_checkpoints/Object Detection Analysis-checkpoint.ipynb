{
 "cells": [
  {
   "cell_type": "code",
   "execution_count": 1,
   "metadata": {},
   "outputs": [],
   "source": [
    "import pandas as pd\n",
    "import matplotlib.pyplot as plt\n",
    "%matplotlib inline"
   ]
  },
  {
   "cell_type": "code",
   "execution_count": 15,
   "metadata": {},
   "outputs": [],
   "source": [
    "import numpy as np\n",
    "import itertools"
   ]
  },
  {
   "cell_type": "markdown",
   "metadata": {},
   "source": [
    "## Histogram Of Gradients: Hyperparameter Search"
   ]
  },
  {
   "cell_type": "markdown",
   "metadata": {},
   "source": [
    "### Starting Point\n",
    "I read the following paper:\n",
    "```\n",
    "Dalal N, Triggs B. Histograms of oriented gradients for human detection. InComputer Vision and Pattern Recognition, 2005. CVPR 2005. IEEE Computer Society Conference on 2005 Jun 25 (Vol. 1, pp. 886-893). IEEE.\n",
    "```\n",
    "Dalal and Triggs suggested the following:\n",
    "```\n",
    "The stride (block overlap) is fixed at half of the block size. 3×3 blocks of 6×6 pixel cells perform best, with 10.4% miss rate.\n",
    "```\n",
    "\n",
    "From the above, we took inferred the following:\n",
    "1. Block stride is half the block size (i.e. we stride on a cell-by-cell basis).\n",
    "2. Block sizes are 2 (or, 3) times the cell size.\n",
    "\n",
    "Now, we are checking the **window size (and, thus, number of features)** as our hyperparameter."
   ]
  },
  {
   "cell_type": "markdown",
   "metadata": {},
   "source": [
    "### Experiment 1: Window Size"
   ]
  },
  {
   "cell_type": "code",
   "execution_count": null,
   "metadata": {},
   "outputs": [],
   "source": [
    "experiment = [\n",
    "    (24, 24, 12, 12, 36, 78.6813),\n",
    "    (48, 24, 12, 12, 324, 82.2909),\n",
    "    (72, 24, 12, 12, 900, 75.2025),\n",
    "    (96, 24, 12, 12, 900, 77.8477),\n",
    "]"
   ]
  },
  {
   "cell_type": "markdown",
   "metadata": {},
   "source": [
    "## Random Forrest: The Effect of Ensembles"
   ]
  },
  {
   "cell_type": "markdown",
   "metadata": {},
   "source": [
    "### Histogram Hyperparameters\n",
    "After some search, I found the best HOG window, block and cell sizes to be as follows:\n",
    "1. Block sizes are 2 times the cell size.\n",
    "2. Block stride is half the block size (i.e. we stride on a cell-by-cell basis).\n",
    "3. Window sizes are 2 times the block size.\n",
    "\n",
    "Our implementation parameters are:\n",
    "1. Cell Size= (12, 12)\n",
    "2. Block Size= (24, 24)\n",
    "3. Block Stride= (12, 12)\n",
    "4. Window Size = (48, 48)\n",
    "\n",
    "We found also that:\n",
    "1. The smaller the number of features, the easier the classifier separates them-- That yields in higher accuracy. **BUT!!! It leads to lots of confusion as well.** We need to check the confusion matrix."
   ]
  },
  {
   "cell_type": "markdown",
   "metadata": {},
   "source": [
    "### Random Forrest Hyperparameters"
   ]
  },
  {
   "cell_type": "code",
   "execution_count": 3,
   "metadata": {},
   "outputs": [],
   "source": [
    "experiment = [\n",
    "    (1, 81.9174, 72.5592, 92.1913, 81.2055),\n",
    "    (4, 85.9841, 78.4351, 94.2314, 85.6107),\n",
    "    (8, 92.3845, 88.1083, 96.815, 92.2567),\n",
    "    (16, 96.1589, 93.7729, 98.5351, 96.095),\n",
    "    (32, 97.8194, 96.6769, 98.9455, 97.7981),\n",
    "    (64, 98.5457, 97.666, 99.4213, 98.5359),\n",
    "    (128, 98.779, 98.1351, 99.4208, 98.7737)\n",
    "]\n",
    "\n",
    "dfBenchmarkNumberOfTrees = pd.DataFrame(experiment, columns=[\n",
    "    'Trees', 'Accuracy', 'Precision', 'Recall', 'FScore'\n",
    "])"
   ]
  },
  {
   "cell_type": "code",
   "execution_count": 4,
   "metadata": {},
   "outputs": [
    {
     "data": {
      "text/html": [
       "<div>\n",
       "<style scoped>\n",
       "    .dataframe tbody tr th:only-of-type {\n",
       "        vertical-align: middle;\n",
       "    }\n",
       "\n",
       "    .dataframe tbody tr th {\n",
       "        vertical-align: top;\n",
       "    }\n",
       "\n",
       "    .dataframe thead th {\n",
       "        text-align: right;\n",
       "    }\n",
       "</style>\n",
       "<table border=\"1\" class=\"dataframe\">\n",
       "  <thead>\n",
       "    <tr style=\"text-align: right;\">\n",
       "      <th></th>\n",
       "      <th>Trees</th>\n",
       "      <th>Accuracy</th>\n",
       "      <th>Precision</th>\n",
       "      <th>Recall</th>\n",
       "      <th>FScore</th>\n",
       "    </tr>\n",
       "  </thead>\n",
       "  <tbody>\n",
       "    <tr>\n",
       "      <th>0</th>\n",
       "      <td>1</td>\n",
       "      <td>81.9174</td>\n",
       "      <td>72.5592</td>\n",
       "      <td>92.1913</td>\n",
       "      <td>81.2055</td>\n",
       "    </tr>\n",
       "    <tr>\n",
       "      <th>1</th>\n",
       "      <td>4</td>\n",
       "      <td>85.9841</td>\n",
       "      <td>78.4351</td>\n",
       "      <td>94.2314</td>\n",
       "      <td>85.6107</td>\n",
       "    </tr>\n",
       "    <tr>\n",
       "      <th>2</th>\n",
       "      <td>8</td>\n",
       "      <td>92.3845</td>\n",
       "      <td>88.1083</td>\n",
       "      <td>96.8150</td>\n",
       "      <td>92.2567</td>\n",
       "    </tr>\n",
       "    <tr>\n",
       "      <th>3</th>\n",
       "      <td>16</td>\n",
       "      <td>96.1589</td>\n",
       "      <td>93.7729</td>\n",
       "      <td>98.5351</td>\n",
       "      <td>96.0950</td>\n",
       "    </tr>\n",
       "    <tr>\n",
       "      <th>4</th>\n",
       "      <td>32</td>\n",
       "      <td>97.8194</td>\n",
       "      <td>96.6769</td>\n",
       "      <td>98.9455</td>\n",
       "      <td>97.7981</td>\n",
       "    </tr>\n",
       "    <tr>\n",
       "      <th>5</th>\n",
       "      <td>64</td>\n",
       "      <td>98.5457</td>\n",
       "      <td>97.6660</td>\n",
       "      <td>99.4213</td>\n",
       "      <td>98.5359</td>\n",
       "    </tr>\n",
       "    <tr>\n",
       "      <th>6</th>\n",
       "      <td>128</td>\n",
       "      <td>98.7790</td>\n",
       "      <td>98.1351</td>\n",
       "      <td>99.4208</td>\n",
       "      <td>98.7737</td>\n",
       "    </tr>\n",
       "  </tbody>\n",
       "</table>\n",
       "</div>"
      ],
      "text/plain": [
       "   Trees  Accuracy  Precision   Recall   FScore\n",
       "0      1   81.9174    72.5592  92.1913  81.2055\n",
       "1      4   85.9841    78.4351  94.2314  85.6107\n",
       "2      8   92.3845    88.1083  96.8150  92.2567\n",
       "3     16   96.1589    93.7729  98.5351  96.0950\n",
       "4     32   97.8194    96.6769  98.9455  97.7981\n",
       "5     64   98.5457    97.6660  99.4213  98.5359\n",
       "6    128   98.7790    98.1351  99.4208  98.7737"
      ]
     },
     "execution_count": 4,
     "metadata": {},
     "output_type": "execute_result"
    }
   ],
   "source": [
    "dfBenchmarkNumberOfTrees"
   ]
  },
  {
   "cell_type": "code",
   "execution_count": 7,
   "metadata": {},
   "outputs": [
    {
     "data": {
      "text/plain": [
       "Text(0.5,1,'Number of Trees Impact on Accuracy')"
      ]
     },
     "execution_count": 7,
     "metadata": {},
     "output_type": "execute_result"
    },
    {
     "data": {
      "image/png": "[encoded data removed]",
      "text/plain": [
       "<matplotlib.figure.Figure at 0x111390898>"
      ]
     },
     "metadata": {},
     "output_type": "display_data"
    }
   ],
   "source": [
    "ax = plt.gca()\n",
    "\n",
    "ax.figure.set_size_inches(10,5)\n",
    "\n",
    "dfBenchmarkNumberOfTrees.plot(x='Trees', y='Accuracy', ax=ax)\n",
    "dfBenchmarkNumberOfTrees.plot(x='Trees', y='Precision', ax=ax)\n",
    "dfBenchmarkNumberOfTrees.plot(x='Trees', y='Recall', ax=ax)\n",
    "dfBenchmarkNumberOfTrees.plot(x='Trees', y='FScore', ax=ax)\n",
    "\n",
    "ax.legend([\n",
    "    'Accuracy',\n",
    "    'Precision',\n",
    "    'Recall',\n",
    "    'FScore'\n",
    "])\n",
    "\n",
    "ax.set_xlabel('Accuracy (%)')\n",
    "ax.set_ylabel('Number of Trees')\n",
    "ax.set_title('Number of Trees Impact on Accuracy')"
   ]
  },
  {
   "cell_type": "markdown",
   "metadata": {},
   "source": [
    "### The Confusion Matrix"
   ]
  },
  {
   "cell_type": "code",
   "execution_count": 17,
   "metadata": {},
   "outputs": [],
   "source": [
    "def plot_confusion_matrix(cm, classes,\n",
    "                          normalize=False,\n",
    "                          title='Confusion matrix',\n",
    "                          cmap=plt.cm.Blues):\n",
    "    \"\"\"\n",
    "    This function prints and plots the confusion matrix.\n",
    "    Normalization can be applied by setting `normalize=True`.\n",
    "    Source: http://scikit-learn.org/stable/auto_examples/model_selection/plot_confusion_matrix.html\n",
    "    \"\"\"\n",
    "    if normalize:\n",
    "        cm = cm.astype('float') / cm.sum(axis=1)[:, np.newaxis]\n",
    "        print(\"Normalized confusion matrix\")\n",
    "    else:\n",
    "        print('Confusion matrix, without normalization')\n",
    "\n",
    "    print(cm)\n",
    "\n",
    "    plt.imshow(cm, interpolation='nearest', cmap=cmap)\n",
    "    plt.title(title)\n",
    "    plt.colorbar()\n",
    "    tick_marks = np.arange(len(classes))\n",
    "    plt.xticks(tick_marks, classes)\n",
    "    plt.yticks(tick_marks, classes)\n",
    "\n",
    "    fmt = '.2f' if normalize else 'd'\n",
    "    thresh = cm.max() / 2.\n",
    "    for i, j in itertools.product(range(cm.shape[0]), range(cm.shape[1])):\n",
    "        plt.text(j, i, format(cm[i, j], fmt),\n",
    "                 horizontalalignment=\"center\",\n",
    "                 color=\"white\" if cm[i, j] > thresh else \"black\")\n",
    "\n",
    "    plt.tight_layout()\n",
    "    plt.ylabel('True label')\n",
    "    plt.xlabel('Predicted label')"
   ]
  },
  {
   "cell_type": "markdown",
   "metadata": {},
   "source": [
    "#### Confusion Matrix: The Best Classifier (n= 128)"
   ]
  },
  {
   "cell_type": "code",
   "execution_count": 18,
   "metadata": {},
   "outputs": [],
   "source": [
    "confusion_matrix_128 = np.array([[42,0,0,2],\n",
    "[0,44,0,0],\n",
    "[1,0,43,0],\n",
    "[0,0,2,288]])"
   ]
  },
  {
   "cell_type": "code",
   "execution_count": 19,
   "metadata": {},
   "outputs": [
    {
     "name": "stdout",
     "output_type": "stream",
     "text": [
      "Confusion matrix, without normalization\n",
      "[[ 42   0   0   2]\n",
      " [  0  44   0   0]\n",
      " [  1   0  43   0]\n",
      " [  0   0   2 288]]\n"
     ]
    },
    {
     "data": {
      "image/png": "[encoded data removed]",
      "text/plain": [
       "<matplotlib.figure.Figure at 0x111bcacc0>"
      ]
     },
     "metadata": {},
     "output_type": "display_data"
    }
   ],
   "source": [
    "plot_confusion_matrix(confusion_matrix_128, ['C1', 'C2', 'C3', 'BG'])"
   ]
  },
  {
   "cell_type": "markdown",
   "metadata": {},
   "source": [
    "#### Confusion Matrix: The Worst Classifier (n= 128)"
   ]
  },
  {
   "cell_type": "code",
   "execution_count": 21,
   "metadata": {},
   "outputs": [
    {
     "name": "stdout",
     "output_type": "stream",
     "text": [
      "Confusion matrix, without normalization\n",
      "[[ 37   4   0   3]\n",
      " [  1  41   0   2]\n",
      " [  4   1  36   3]\n",
      " [ 13  15  25 237]]\n"
     ]
    },
    {
     "data": {
      "image/png": "[encoded data removed]",
      "text/plain": [
       "<matplotlib.figure.Figure at 0x11155d588>"
      ]
     },
     "metadata": {},
     "output_type": "display_data"
    }
   ],
   "source": [
    "confusion_matrix_1 = np.array([\n",
    "    [37,4,0,3],\n",
    "    [1,41,0,2],\n",
    "    [4,1,36,3],\n",
    "    [13,15,25,237]\n",
    "])\n",
    "plot_confusion_matrix(confusion_matrix_1, ['C1', 'C2', 'C3', 'BG'])"
   ]
  },
  {
   "cell_type": "code",
   "execution_count": null,
   "metadata": {},
   "outputs": [],
   "source": []
  }
 ],
 "metadata": {
  "kernelspec": {
   "display_name": "Python 3",
   "language": "python",
   "name": "python3"
  },
  "language_info": {
   "codemirror_mode": {
    "name": "ipython",
    "version": 3
   },
   "file_extension": ".py",
   "mimetype": "text/x-python",
   "name": "python",
   "nbconvert_exporter": "python",
   "pygments_lexer": "ipython3",
   "version": "3.6.3"
  }
 },
 "nbformat": 4,
 "nbformat_minor": 2
}
